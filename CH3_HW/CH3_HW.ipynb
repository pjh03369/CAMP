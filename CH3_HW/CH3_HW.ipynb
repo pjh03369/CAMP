{
 "cells": [
  {
   "cell_type": "markdown",
   "id": "eec14a99-2d58-4138-8ac9-5f4313b23a50",
   "metadata": {},
   "source": [
    "## 1. 사용환경 준비\n",
    "`OpenAI` 모델"
   ]
  },
  {
   "cell_type": "code",
   "execution_count": 1,
   "id": "47a97fa9-4a42-42d4-9bf8-f5116591568f",
   "metadata": {},
   "outputs": [
    {
     "name": "stdin",
     "output_type": "stream",
     "text": [
      "OpenAI API key 입력:  ········\n"
     ]
    }
   ],
   "source": [
    "import os\n",
    "from getpass import getpass\n",
    "\n",
    "os.environ[\"OPENAI_API_KEY\"] = getpass(\"OpenAI API key 입력: \")"
   ]
  },
  {
   "cell_type": "markdown",
   "id": "ee016b25-be8f-42e9-adf1-e51a2639247e",
   "metadata": {},
   "source": [
    "## 2. 모델 로드하기\n",
    "`OpenAI` 모델을 로드하여 model에 저장"
   ]
  },
  {
   "cell_type": "code",
   "execution_count": 3,
   "id": "b0986a12-dc74-4dac-a09a-ca7cc28640c5",
   "metadata": {},
   "outputs": [],
   "source": [
    "from langchain_openai import ChatOpenAI\n",
    "from langchain_core.messages import HumanMessage\n",
    "\n",
    "# 모델 초기화\n",
    "model = ChatOpenAI(model=\"gpt-4o-mini\")"
   ]
  },
  {
   "cell_type": "markdown",
   "id": "bd4322ad-c36a-47ce-a5e3-59ddcff3d146",
   "metadata": {},
   "source": [
    "## 3. 문서 로드하기\n",
    "`langchain`의 `PyPDFLoader` 를 이용하여 문서를 불러옴"
   ]
  },
  {
   "cell_type": "code",
   "execution_count": 5,
   "id": "080e4686-597c-4d6c-9b24-2af0a6e26b0f",
   "metadata": {},
   "outputs": [],
   "source": [
    "from langchain.document_loaders import PyPDFLoader\n",
    "\n",
    "# PDF 파일 로드. 파일의 경로 입력\n",
    "loader = PyPDFLoader(\"C:/Users/jh838/인공지능산업최신동향_2024년11월호.pdf\")\n",
    "\n",
    "# 페이지별 문서 로드\n",
    "docs = loader.load()"
   ]
  },
  {
   "cell_type": "markdown",
   "id": "de1a9f6d-90c5-4642-bdf5-e4b84967b8fe",
   "metadata": {},
   "source": [
    "## 4. 문서 청크로 나누기\n",
    "### 4-1. CharacterTextSplitter\n",
    "텍스트를 지정한 길이의 청크로 단순히 분할"
   ]
  },
  {
   "cell_type": "code",
   "execution_count": 18,
   "id": "6ad4afc5-975e-483b-801e-6e07b51fb85a",
   "metadata": {},
   "outputs": [
    {
     "name": "stdout",
     "output_type": "stream",
     "text": [
      "=== CharacterTextSplitter 모델 응답 상위 10개 ===\n",
      "Character Chunk 1 Response:\n",
      "2024년 11월호에 대한 구체적인 내용이나 주제가 필요하신가요? 예를 들어, 특정 잡지나 기사, 혹은 이벤트와 관련된 정보가 필요하신지 말씀해 주시면 더 도움을 드릴 수 있습니다!\n",
      "\n",
      "Character Chunk 2 Response:\n",
      "2024년 11월호 인공지능 산업 동향 브리프는 다양한 주제를 다루고 있습니다. 아래는 각 섹션의 주요 내용을 요약한 것입니다.\n",
      "\n",
      "### Ⅰ. 인공지능 산업 동향 브리프\n",
      "\n",
      "#### 1. 정책/법제\n",
      "- **미국 민권위원회**: 연방정부의 얼굴인식 기술 사용이 민권에 미치는 영향 분석.\n",
      "- **백악관 예산관리국**: 정부의 책임 있는 AI 조달을 위한 새로운 지침 발표.\n",
      "- **유로폴**: 법 집행에서 AI의 장점과 과제를 분석한 보고서 발간.\n",
      "- **OECD**: 공공 부문 AI 도입을 위한 G7 툴킷 발표.\n",
      "- **세계경제포럼**: 생성AI 시대의 거버넌스 프레임워크 제시.\n",
      "\n",
      "#### 2. 기업/산업\n",
      "- **CB인사이츠**: 2024년 3분기 벤처 투자의 31%가 AI 스타트업으로 집중.\n",
      "- **메타**: 동영상 생성AI 도구 ‘메타 무비 젠’ 출시 및 첫 멀티모달 AI 모델 ‘라마 3.2’ 발표.\n",
      "- **앨런AI연구소**: GPT-4o를 초월하는 성능의 오픈소스 LLM ‘몰모’ 공개.\n",
      "- **미스트랄AI**: 온디바이스 AI 모델 ‘레 미니스트로’ 발표.\n",
      "- **카카오**: 통합 AI 브랜드 및 신규 AI 서비스 ‘카나나’ 공개.\n",
      "\n",
      "#### 3. 기술/연구\n",
      "- **노벨상 수상**: AI 관련 연구자들이 2024년 노벨 물리학상 및 화학상 수상.\n",
      "- **미국 국무부**: AI 연구에서의 국제협력을 위한 ‘글로벌 AI 연구 의제’ 발표.\n",
      "- **일본 AI안전연구소**: AI 안전성 평가 관점 가이드 발간.\n",
      "- **구글 딥마인드**: 반도체 칩 레이아웃 설계 AI 모델 ‘알파칩’ 발표.\n",
      "- **AI21 CEO**: AI 에이전트에 트랜스포머 아키텍처의 대안 필요성 제기.\n",
      "\n",
      "#### 4. 인력/교육\n",
      "- **MIT 산업성과센터**: 근로자 관점에서 자동화 기술의 영향 조사.\n",
      "- **다이스 조사**: AI 전문가의 73%가 2025년에 이직 고려.\n",
      "- **가트너 예측**: AI로 인해 엔지니어링 인력의 80%가 역량 향상 필요.\n",
      "- **인디드 조사**: 생성AI가 인간 근로자를 대체할 가능성은 낮음.\n",
      "\n",
      "### Ⅱ. 주요 행사\n",
      "- **NeurIPS 2024**\n",
      "- **GenAI Summit Maroc 2024**\n",
      "- **AI Summit Seoul 2024**\n",
      "\n",
      "이 보고서는 인공지능 분야의 최신 동향, 정책 및 기술 혁신을 포괄적으로 다루고 있으며, 기업과 연구기관, 정책 입안자들에게 유용한 정보로 구성되어 있습니다.\n",
      "\n",
      "Character Chunk 3 Response:\n",
      "인공지능(AI) 산업은 최근 몇 년 동안 급격한 발전과 변화를 겪고 있으며, 여러 산업 분야에서 혁신을 이끌고 있습니다. 아래는 2023년까지의 주요 동향을 요약한 브리프입니다.\n",
      "\n",
      "### 1. 기술 발전\n",
      "- **딥러닝과 머신러닝의 발전**: 대규모 데이터셋과 강력한 컴퓨팅 파워의 결합으로 더욱 정교한 모델이 개발되고 있습니다. 특히 GPT-3와 같은 대형 언어 모델이 다양한 분야에서 활용되고 있습니다.\n",
      "- **자연어 처리(NLP)**: 텍스트 생성, 번역, 감정 분석 등에서 NLP 기술이 큰 발전을 이루었습니다. 이를 통해 고객 서비스 및 콘텐츠 생성 자동화가 이루어지고 있습니다.\n",
      "\n",
      "### 2. 산업별 적용\n",
      "- **헬스케어**: AI는 진단 지원, 개인 맞춤형 치료, 약물 발견 등에서 중요한 역할을 하고 있습니다. 의료 영상 분석 및 예측 모델링이 활발히 이루어지고 있습니다.\n",
      "- **금융**: 리스크 관리, 사기 탐지, 자동화된 트레이딩 시스템 등에서 AI의 활용이 증가하고 있습니다. 데이터 분석을 통한 보다 정교한 투자 전략이 개발되고 있습니다.\n",
      "- **제조업**: 스마트 팩토리와 로봇 공정 자동화를 통해 생산 효율성을 높이고 있습니다. AI 기반의 예측 유지보수 시스템이 도입되고 있습니다.\n",
      "\n",
      "### 3. 윤리적 고려\n",
      "- **AI 윤리 및 규제**: AI의 발전과 함께 윤리적 문제와 사회적 책임에 대한 논의가 활발해지고 있습니다. 데이터 프라이버시, 편향성 문제 등이 주요 이슈로 부각되고 있습니다.\n",
      "- **규제 프레임워크**: 각국 정부는 AI 기술의 안전성과 윤리를 보장하기 위한 정책과 규제를 마련하고 있습니다.\n",
      "\n",
      "### 4. 시장 성장\n",
      "- **투자 증가**: AI 스타트업과 기술 기업에 대한 투자가 급증하고 있으며, 이는 기술 혁신과 새로운 비즈니스 모델 창출로 이어지고 있습니다.\n",
      "- **글로벌 경쟁**: 미국, 중국, 유럽 등 주요 국가들이 AI 기술 개발을 위한 경쟁에 뛰어들며, 글로벌 시장에서의 입지를 강화하고 있습니다.\n",
      "\n",
      "### 5. 미래 전망\n",
      "- **AI와 인간의 협업**: AI는 인간의 작업을 보완하고 효율성을 높이는 도구로 자리잡아갈 것입니다. 특히 반복적이고 단순한 작업에서 AI의 역할이 확대될 것으로 예상됩니다.\n",
      "- **지속 가능한 발전**: AI 기술이 환경 문제 해결 및 지속 가능한 개발 목표(SDGs) 달성에 기여할 가능성이 커지고 있습니다.\n",
      "\n",
      "이러한 동향들은 인공지능 산업이 앞으로도 계속해서 발전하고 변화할 것임을 시사합니다. 기업과 개인 모두 AI 기술을 적극적으로 활용할 방법을 모색하고, 이를 통한 혁신을 추구해야 할 시점입니다.\n",
      "\n",
      "Character Chunk 4 Response:\n",
      "**1. 정책/법제**\n",
      "- 미국 민권위원회는 연방정부의 얼굴인식 기술 사용에 대한 지침과 감독의 부재가 민권 문제를 초래할 위험이 있다고 경고했습니다. \n",
      "- 보고서는 얼굴인식 기술의 무분별한 사용이 편향, 개인정보 침해, 적법 절차 미준수 등의 문제를 초래할 수 있다고 지적했습니다.\n",
      "- 현재 얼굴인식 기술의 사용을 명시적으로 규제하는 법률이 부재하며, 각 정부 기관의 최고 AI 책임자가 책임 있는 사용을 평가하고 지역사회의 의견을 수렴할 필요성이 강조되었습니다.\n",
      "\n",
      "**2. 기업/산업**\n",
      "- 얼굴인식 기술은 법무부 연방수사국(FBI)을 포함한 여러 법 집행기관에서 범죄 수사 및 용의자 수색에 빈번히 사용되고 있습니다.\n",
      "- 얼굴인식 기술 제공업체는 다양한 인구통계 집단에 대한 높은 정확도를 보장하기 위해 지속적인 교육과 지원이 필요하다고 언급되었습니다.\n",
      "\n",
      "**3. 기술/연구**\n",
      "- 얼굴인식 기술은 AI 기술의 일종으로, 인종, 성별, 연령 등 인구통계적 요인에 따라 정확도가 달라질 수 있습니다. 이는 식별 오류와 차별적 결과를 초래할 위험이 있습니다.\n",
      "- 국립표준기술연구소(NIST)는 정부 기관의 얼굴인식 기술 시스템 도입 시 효과와 공평성, 정확성을 평가하기 위한 운영 테스트 프로토콜 개발의 필요성이 제기되었습니다.\n",
      "\n",
      "**4. 인력/교육**\n",
      "- 각 연방정부 기관의 최고 AI 책임자는 실제 사용 상황에서 얼굴인식 기술을 평가하고 차별 및 편견으로 인한 불평등을 완화할 필요가 있습니다.\n",
      "- 얼굴인식 기술 제공업체는 다양한 인구통계 집단에 대한 높은 정확도를 보장하기 위해 지속적인 교육과 업데이트를 제공해야 합니다.\n",
      "\n",
      "Character Chunk 5 Response:\n",
      "**SPRi AI Brief | 2024-11월호**\n",
      "\n",
      "### 미국 백악관 예산관리국, 정부의 책임 있는 AI 조달을 위한 지침 발표\n",
      "\n",
      "미국 백악관 예산관리국(OMB)은 바이든 대통령의 AI 행정명령에 따라 연방정부의 책임 있는 AI 조달을 지원하기 위한 지침을 2024년 10월 3일 발표했습니다. 이 지침은 연방정부가 미국 경제에서 최대 규모의 단일 구매자로서 AI의 책임 있는 발전을 뒷받침할 수 있도록 설계되었습니다.\n",
      "\n",
      "#### 주요 내용\n",
      "\n",
      "- **AI 조달 시 책임성 증진을 위한 전략적 목표**\n",
      "  1. **AI 위험과 성과 관리**: \n",
      "     - AI 시스템의 구축, 훈련, 배포의 복잡성을 고려하여 위험과 성과를 관리하는 모범 관행 제시.\n",
      "     - 개인정보 보호 담당자가 조달 프로세스에 조기에 참여하여 위험을 식별하고 법률 준수를 보장.\n",
      "     - 시민 권리와 안전에 영향을 미치는 AI 조달에 대해 추가 위험 관리 필요성을 파악.\n",
      "     - 성과 기반의 혁신적 조달 기법을 활용하여 위험을 효과적으로 관리하고 성과를 향상.\n",
      "\n",
      "  2. **AI 시장의 경쟁 촉진**: \n",
      "     - 정부 기관이 최상의 AI 솔루션을 사용할 수 있도록 공급업체 시장에서 경쟁을 보장.\n",
      "     - 계약 요건 수립 시 공급업체 의존성을 최소화하고, 상호운용성과 투명성을 고려한 공급업체 평가 절차 도입.\n",
      "     - 혁신적 조달 관행을 통해 우수한 계약업체 성과와 정부 기관의 임무 성과 보장.\n",
      "\n",
      "  3. **연방정부 전반의 협업 보장**: \n",
      "     - AI 전문지식을 갖춘 공무원과 조달, 개인정보 보호, 사이버 보안 전문가로 구성된 협업 팀을 구성.\n",
      "     - 각 정부 기관은 협의회를 구성하여 책임 있는 AI 조달을 지원하고, AI 투자 우선순위, 배포 역량 개발 등을 고려.\n",
      "\n",
      "이 지침은 연방정부의 AI 조달이 더욱 효과적이고 책임 있게 이루어지도록 하는 데 중요한 역할을 할 것으로 기대됩니다.\n",
      "\n",
      "☞ 출처: The White House, FACT SHEET: OMB Issues Guidance to Advance the Responsible Acquisition of AI in Government, 2024.10.03.\n",
      "\n",
      "Character Chunk 6 Response:\n",
      "유로폴(Europol)은 2024년 9월 24일 법 집행에서 인공지능(AI)의 활용 가능성을 탐구한 보고서를 발표했습니다. 이 보고서는 AI 기술이 법 집행 업무를 개선할 수 있는 여러 가지 이점과 함께 발생할 수 있는 과제들을 다루고 있습니다.\n",
      "\n",
      "### 주요 내용\n",
      "\n",
      "1. **AI의 이점**:\n",
      "   - **고급 데이터 분석**: AI는 대량의 데이터를 신속하게 분석하여 범죄 활동을 탐지하고 대응할 수 있는 능력을 향상시킵니다.\n",
      "   - **디지털 증거 수집**: AI를 활용하여 디지털 증거를 효과적으로 수집하고 정리할 수 있습니다.\n",
      "   - **이미지 및 비디오 분석**: AI는 이미지와 비디오를 분석하여 범죄 수사에 도움을 줄 수 있습니다.\n",
      "   - **생체인식 시스템**: AI는 생체인식 기술을 통해 범죄자 식별을 지원할 수 있습니다.\n",
      "   - **국제 협력**: 기계번역 등 AI 기반 도구는 여러 국가 간의 협력을 용이하게 합니다.\n",
      "\n",
      "2. **AI 도입의 과제**:\n",
      "   - **기술적 문제**: AI 도구의 효과적인 사용을 위해서는 데이터 수집 및 보관 관행의 표준화가 필요하며, 다양한 데이터 규모와 운영 요구사항에 적응할 수 있는 AI 모델 개발이 요구됩니다.\n",
      "   - **윤리적 및 사회적 우려**: 데이터 편향, 개인정보 침해, 인권 침해 등의 문제를 해결해야 하며, AI 의사결정 과정에서의 투명성과 책임성을 보장해야 합니다.\n",
      "\n",
      "3. **EU AI 법의 영향**:\n",
      "   - 2024년 8월 발효된 EU AI 법은 고위험 AI 시스템에 대한 엄격한 감독을 부과하며, 공공장소에서의 실시간 생체인식 식별을 금지했습니다. 그러나 법 집행의 특수성을 고려하여 일부 예외를 설정했습니다.\n",
      "   - 이러한 예외에도 불구하고, 기존 AI 시스템에 대한 재평가와 수정이 필요하며, 이는 재정적 및 인력적 부담을 초래할 수 있습니다.\n",
      "\n",
      "유로폴의 보고서는 법 집행 기관이 AI 기술을 윤리적이고 투명하게 구현하기 위한 지침을 제공하며, AI의 이점과 과제를 동시에 인식하고 해결하기 위한 노력이 필요하다는 메시지를 전하고 있습니다.\n",
      "\n",
      "Character Chunk 7 Response:\n",
      "**SPRi AI Brief | 2024년 11월호**\n",
      "\n",
      "**OECD, 공공 부문의 AI 도입을 위한 G7 툴킷 발표**\n",
      "\n",
      "OECD는 공공 부문에서의 AI 도입을 위한 모범사례와 거버넌스 프레임워크, 정책 옵션을 정리한 보고서를 발표했습니다. 이 보고서는 EU 및 G7 국가들의 사례를 바탕으로 하여, 공공 부문에서 AI 도입을 안전하고 신뢰할 수 있는 방식으로 추진하기 위한 구체적인 지침을 제공합니다.\n",
      "\n",
      "### 주요 내용\n",
      "- **G7 툴킷의 목적**: OECD는 2024년 10월 15일, 안전하고 신뢰할 수 있는 AI의 원칙을 정책으로 전환하는 '공공 부문의 AI를 위한 G7 툴킷'을 발표하였습니다. 이 보고서는 G7 회원국의 설문 응답 및 OECD와 UNESCO의 연구를 바탕으로 공공 부문에서 AI 활용을 위한 포괄적인 지침을 제공하는 것을 목표로 합니다.\n",
      "  \n",
      "- **AI 도입 추세 분석**: G7 국가들과 EU 간에는 공공 부문 AI 도입에 대한 국가 전략 및 정책의 개발과 구현에서 차이가 존재합니다. 예를 들어, 독일, 미국, 영국, 일본은 공공 부문을 포함한 국가 AI 전략을 수립한 반면, 프랑스는 별도의 정책으로 AI 프로젝트에 투자하고 있습니다. 캐나다는 2025년까지 공공 서비스에 대한 AI 전략을 개발할 계획이며, 이탈리아는 2024~2026년 동안 공공 부문 디지털화 계획에 AI를 포함시켰습니다.\n",
      "\n",
      "- **거버넌스 구조**: G7 회원국 중 미국, 캐나다, 프랑스, EU는 분산형 거버넌스 구조를 채택하고 있으며, 이탈리아, 독일, 영국은 중앙 집중형 거버넌스를 채택하고 있습니다. 이러한 구조는 AI의 효과적 관리와 정책 결정에 기여하고 있습니다.\n",
      "\n",
      "- **정책 옵션**: G7 국가들은 공공 부문 운영 효율성 향상, 정책 결정 강화, 공공 서비스 개선, 정부의 투명성과 책임성 강화를 위해 AI를 활용하고 있습니다. 주요 정책 옵션으로는 데이터 저장 및 공유 솔루션 채택, 혁신적이고 유연한 조달 절차 수립, 민간 파트너십 육성 등이 있습니다.\n",
      "\n",
      "- **단계적 접근법**: 보고서는 공공 부문 AI 도입 시 위험을 완화하기 위해 문제 정의와 아이디어 구상 후, 프로토타입 개발, 통제된 환경에서의 시범 도입, 최종 구현으로 이어지는 단계적 접근 방식을 강조하고 있습니다.\n",
      "\n",
      "위의 내용을 통해 OECD는 G7 국가들이 공공 부문에서 AI를 효과적으로 도입하고 활용할 수 있도록 지원하고자 합니다.\n",
      "\n",
      "☞ 출처: OECD, G7 Toolkit for Artificial Intelligence in the Public Sector, 2024.10.15.\n",
      "\n",
      "Character Chunk 8 Response:\n",
      "세계경제포럼(WEF)이 발표한 백서는 생성AI 시대의 거버넌스 프레임워크를 제시하며, 정책 입안자들에게 생성AI의 공익적 활용과 경제·사회적 균형 달성을 위한 전략적 접근을 강조하고 있습니다. 이 백서는 과거, 현재, 미래의 세 가지 축을 통해 생성AI의 거버넌스를 구축할 필요성을 강조합니다.\n",
      "\n",
      "1. **과거 활용 (Harness Past)**:\n",
      "   - 기존 규제를 평가하고 생성AI로 인한 규제 격차 해소.\n",
      "   - 정부는 새로운 AI 규제나 관할 당국을 설립하기 전에 기존 규제를 점검하고, 책임 할당을 명확히 하며, 문제 발생에 대한 해결책을 모색해야 합니다.\n",
      "\n",
      "2. **현재 구축 (Build Present)**:\n",
      "   - 생성AI 거버넌스와 관련된 이해관계자 간의 지식 공유 증진.\n",
      "   - 정책 입안자, 규제 당국, 산업계, 시민사회, 학계 등 다양한 이해관계자의 참여가 필수적이며, 정부는 이를 통해 사회 전반의 문제에 대응해야 합니다.\n",
      "\n",
      "3. **미래 계획 (Plan Future)**:\n",
      "   - 생성AI 거버넌스에 대한 민첩한 준비와 국제 협력 촉진.\n",
      "   - 기술 발전에 따른 새로운 위험 탐색과 함께, AI 역량 향상 및 AI 전문가 채용에 대한 투자를 진행하고, 규제 민첩성을 유지하기 위한 다양한 전략을 개발해야 합니다.\n",
      "\n",
      "이러한 프레임워크는 생성AI의 공익적 활용을 극대화하고, 경제·사회적 균형을 이루며, 잠재적인 위험을 완화하기 위한 체계적인 접근 방식을 제공합니다. 정부는 이를 통해 AI 관련 규제의 유연성을 확보하고, 국제적 협력을 통해 AI 안전성과 표준화 문제를 해결해야 할 필요성이 있습니다.\n",
      "\n",
      "Character Chunk 9 Response:\n",
      "**SPRi AI Brief | 2024-11월호**\n",
      "\n",
      "**AI 스타트업에 대한 벤처 투자 현황**\n",
      "\n",
      "CB인사이츠의 분석에 따르면, 2024년 3분기 동안 벤처 투자의 31%가 AI 스타트업에 집중되었습니다. 이 보고서에 따르면 AI 스타트업은 전체 벤처 투자의 35%를 차지했던 2024년 2분기에 이어 두 번째로 높은 비율을 기록했습니다. 특히, 오픈AI의 공동설립자 일리야 수츠케버가 설립한 SSI(Safe Superintelligence Inc.)는 10억 달러를 유치하며 주목받는 AI 투자 사례로 남았습니다.\n",
      "\n",
      "**AI 스타트업의 글로벌 분포**\n",
      "\n",
      "전 세계 AI 스타트업 중 43%가 미국에 위치하고 있으며, 중국(9%), 영국(7%), 인도 및 캐나다(각 4%)가 뒤를 잇고 있습니다. 2024년 3분기에는 기업 가치가 10억 달러 이상인 유니콘 기업이 24개 탄생했으며, 이 중 절반 이상이 AI 관련 기업입니다. 예를 들어, 스킬드AI(Skild AI), 월드랩스(World Labs), 하비(Harvey) 등이 유니콘 지위를 획득했습니다.\n",
      "\n",
      "**AI 스타트업의 투자금 회수(Exit) 속도**\n",
      "\n",
      "AI 스타트업은 일반 스타트업보다 투자금 회수 시점이 더 빠릅니다. AI 기업의 엑시트는 평균 7년이 소요되며, 이는 다른 스타트업의 13년에 비해 현저히 짧은 기간입니다. 2024년에는 대부분의 AI 스타트업 엑시트가 M&A를 통해 이루어졌습니다. NVIDIA와 Salesforce와 같은 대기업들은 AI 스타트업 인수에 적극적으로 나서고 있으며, 각각 3곳과 2곳을 인수하는 성과를 올렸습니다.\n",
      "\n",
      "**미래 전망과 도전 과제**\n",
      "\n",
      "그러나 CB인사이츠는 AI 스타트업의 성공에 대해 비관적인 전망을 내놓고 있습니다. 많은 AI 스타트업이 기대에 미치지 못하고 실패할 것으로 예상되며, 심지어 오픈AI와 같은 대기업조차도 2024년에 50억 달러의 손실을 입을 것으로 보입니다. 이러한 상황 속에서도 투자자들은 여전히 AI 스타트업에 대한 높은 기대감을 유지하고 있습니다.\n",
      "\n",
      "**출처**: CB Insights, State of Venture Q3’24 Report, 2024.10.03.\n",
      "\n",
      "Character Chunk 10 Response:\n",
      "### 1. 정책/법제\n",
      "- 메타의 새로운 동영상 생성 AI 도구인 '메타 무비 젠'의 출시는 AI 기술의 발전을 반영하며, 이러한 기술들이 콘텐츠 제작 분야에서 어떻게 사용될 수 있는지에 대한 정책적 논의가 필요할 것으로 보인다. 데이터 개인정보 보호 및 AI의 윤리적 사용에 대한 법제도 함께 고려되어야 할 것이다.\n",
      "\n",
      "### 2. 기업/산업\n",
      "- 메타는 '메타 무비 젠'을 통해 동영상 제작 및 편집 시장에서의 경쟁력을 강화하고 있으며, 이는 기업들이 AI 기술을 활용하여 콘텐츠 생산성을 높이고 고객 맞춤형 서비스를 제공하는 방향으로 나아가고 있음을 나타낸다. 특히 인스타그램과 통합될 예정인 점은 사용자 기반을 더욱 확장할 수 있는 기회를 의미한다.\n",
      "\n",
      "### 3. 기술/연구\n",
      "- '메타 무비 젠'은 300억 개의 매개변수를 가진 AI 모델을 통해 고해상도 동영상을 생성할 수 있으며, 오디오 생성 모델 또한 130억 개의 매개변수를 사용한다. 이러한 기술적 발전은 동영상 및 오디오 콘텐츠 생성의 효율성을 크게 향상시킬 것으로 기대된다. 또한, 경쟁 모델 대비 인간 선호도 평가에서 우수한 성과를 보인 점은 기술의 발전뿐만 아니라 사용자 경험에 대한 중요성을 강조한다.\n",
      "\n",
      "### 4. 인력/교육\n",
      "- 메타의 '메타 무비 젠'은 크리에이터와 영화 제작자 등 전문가들에게 우선 제공될 예정으로, 이는 해당 분야의 인력들이 AI 도구를 활용하는 교육과 훈련의 필요성을 시사한다. AI 기술이 콘텐츠 제작에 통합됨에 따라 관련 인력의 기술 습득 및 교육이 더욱 중요해질 것으로 보인다.\n",
      "\n"
     ]
    }
   ],
   "source": [
    "from langchain.text_splitter import CharacterTextSplitter\n",
    "\n",
    "# CharacterTextSplitter로 청킹\n",
    "character_splitter = CharacterTextSplitter(\n",
    "    separator=\"\\n\\n\",         # 두 줄 개행을 기준으로 분리\n",
    "    chunk_size=100,           # 각 청크의 최대 길이\n",
    "    chunk_overlap=10,         # 청크 간의 겹치는 길이\n",
    "    length_function=len,      # 길이를 측정하는 함수\n",
    "    is_separator_regex=False  # separator를 정규식으로 사용하지 않음\n",
    ")\n",
    "character_chunks = character_splitter.split_documents(docs)\n",
    "\n",
    "# 청킹된 결과의 상위 10개 출력\n",
    "print(\"=== CharacterTextSplitter 모델 응답 상위 10개 ===\")\n",
    "for i, chunk in enumerate(character_chunks[:10]):\n",
    "    messages = [HumanMessage(content=chunk.page_content)]\n",
    "    response = model(messages)\n",
    "    print(f\"Character Chunk {i+1} Response:\\n{response.content}\\n\")"
   ]
  },
  {
   "cell_type": "markdown",
   "id": "2710696c-0ec5-4c1d-8536-f486f072db15",
   "metadata": {},
   "source": [
    "### CharacterTextSplitter 파라미터 설명\n",
    "`separator`: 문자열을 분할하는 기준이 되는 구분자. `\\n\\n`로 설정하면 두 줄 개행마다 텍스트를 나누게 됨.\n",
    "\n",
    "`chunk_size`: 각 청크의 최대 길이로, 지정된 길이 이상의 문자는 하나의 청크에 포함도지 않게 함. `100`으로 설정되어 각 청크가 최대 100자 길이가 됨\n",
    "\n",
    "`chunk_overlap`: 청크 간에 겹치는 길이를 설정. `10`으로 설정하면 각 청크가 서로 겹치는 10자를 공유\n",
    "\n",
    "`length_function`: 청크의 길이를 측정하는 함수로,`len` 함수를 사용하여 문자열의 길이를 계산\n",
    "\n",
    "`is_separator_regex`: 구분자를 정규식으로 사용할지 여부를 설정. `True`로 설정하면 `separator` 값을 정규식으로 인식하여 문자열을 나누고, `False`로 설정할 경우`separator`는 단순한 문자열로 사용\n",
    "서 사용할 수 있습니다.\r\n"
   ]
  },
  {
   "cell_type": "markdown",
   "id": "33bee5e5-5478-4fb5-9c91-aab19f6fe0d1",
   "metadata": {},
   "source": [
    "### 4-2. RecursiveCharacterTextSplitter\n",
    "텍스트를 재귀적으로 청킹하여 텍스트 구조를 보존하면서 분할\n",
    "\n",
    "파라미터 해설은 위와 동일"
   ]
  },
  {
   "cell_type": "code",
   "execution_count": 34,
   "id": "ab357cd9-a12b-4cb4-bfc9-b3ee692b9617",
   "metadata": {},
   "outputs": [
    {
     "name": "stdout",
     "output_type": "stream",
     "text": [
      "=== RecursiveCharacterTextSplitter 모델 응답 상위 10개 ===\n",
      "Recursive Chunk 1 Response:\n",
      "죄송하지만 2024년 11월호에 대한 구체적인 정보나 내용을 제공할 수는 없습니다. 하지만 특정 주제나 질문이 있다면, 그에 대해 도와드릴 수 있습니다. 어떤 내용을 원하시는지 말씀해 주시면 최선을 다해 도와드리겠습니다!\n",
      "\n",
      "Recursive Chunk 2 Response:\n",
      "죄송하지만, 2024년 11월호에 대한 정보는 제공할 수 없습니다. 그 시점 이후의 자료는 제가 알지 못합니다. 다른 질문이나 요청이 있으시면 도와드리겠습니다!\n",
      "\n",
      "Recursive Chunk 3 Response:\n",
      "Ⅰ. 인공지능 산업 동향 브리프\n",
      "\n",
      "1. 정책/법제  \n",
      "   ▹ 미국 민권위원회, 연방정부의 얼굴인식 기술 사용에 따른 민권 영향 분석\n",
      "\n",
      "최근 미국 민권위원회(US Commission on Civil Rights)는 연방정부의 얼굴인식 기술 사용이 개인의 민권에 미치는 영향을 분석한 보고서를 발표했습니다. 이 보고서는 얼굴인식 기술이 인종적 편견과 차별을 초래할 수 있는 가능성을 지적하며, 이러한 기술의 사용이 인권을 침해할 수 있는 여러 측면을 다루고 있습니다.\n",
      "\n",
      "주요 내용은 다음과 같습니다:\n",
      "\n",
      "- **인종적 편향**: 얼굴인식 기술이 특정 인종이나 성별에 대해 정확도가 떨어지는 경우가 많아, 경찰 및 공공기관에서의 사용이 인종적 차별로 이어질 수 있다는 우려가 제기되었습니다.\n",
      "\n",
      "- **프라이버시 침해**: 얼굴인식 기술이 개인의 동의 없이 사용될 경우, 개인의 프라이버시가 침해될 수 있으며, 이는 법적 및 윤리적 문제를 초래할 수 있습니다.\n",
      "\n",
      "- **법적 규제 필요성**: 보고서는 얼굴인식 기술의 사용에 대한 명확한 법적 규제가 필요하다고 강조하며, 각 주 및 연방 차원에서의 규제 방안을 모색할 것을 권장했습니다.\n",
      "\n",
      "- **투명성 및 책임**: 얼굴인식 기술을 사용하는 기관들은 기술의 사용 목적과 방법에 대한 투명성을 제공해야 하며, 기술이 잘못 사용되었을 경우의 책임을 명확히 해야 한다고 언급했습니다.\n",
      "\n",
      "이와 같은 분석은 인공지능 기술의 발전과 함께 제기되는 윤리적, 법적 문제에 대한 사회적 논의를 촉발하고 있으며, 향후 정책 결정에 중요한 영향을 미칠 것으로 예상됩니다.\n",
      "\n",
      "Recursive Chunk 4 Response:\n",
      "▹ 미국 백악관 예산관리국, 정부의 책임 있는 AI 조달을 위한 지침 발표\n",
      "미국 백악관 예산관리국(OMB)은 정부 기관들이 인공지능(AI) 기술을 조달할 때 책임감 있게 접근하도록 돕기 위해 새로운 지침을 발표했습니다. 이 지침은 AI의 윤리적 사용, 투명성, 공정성 및 안전성을 강조하며, 정부가 AI 솔루션을 도입할 때 고려해야 할 원칙과 절차를 제시합니다. 이를 통해 정부는 AI 기술의 잠재적인 위험을 최소화하고, 공공의 신뢰를 구축하려는 노력을 기울이고 있습니다.\n",
      "\n",
      "▹ 유로폴, 법 집행에서 AI의 이점과 도전 과제\n",
      "유로폴은 최근 발표한 보고서에서 법 집행 분야에서 인공지능(AI)의 이점과 도전 과제를 분석했습니다. AI는 범죄 예방, 수사 지원, 범죄 패턴 분석 등 다양한 영역에서 법 집행에 도움을 줄 수 있는 가능성을 지니고 있습니다. 그러나 이와 동시에 프라이버시 침해, 편향된 알고리즘, 책임 소재 문제 등 여러 가지 윤리적 및 법적 도전 과제도 존재한다고 강조했습니다. 유로폴은 이러한 문제를 해결하기 위한 방안과 함께 AI의 안전하고 효과적인 사용을 촉진하기 위한 권고 사항을 제시했습니다.\n",
      "\n",
      "Recursive Chunk 5 Response:\n",
      "AI의 이점과 과제를 다룬 OECD 보고서는 인공지능이 공공 부문에 미치는 영향과 그 도입을 위한 전략을 제시합니다. 이 보고서는 G7 국가들이 협력하여 AI 기술을 활용하고, 그로 인해 발생할 수 있는 문제를 해결하기 위한 방안을 모색하는 데 중점을 두고 있습니다.\n",
      "\n",
      "### AI의 이점\n",
      "1. **효율성 증대**: AI는 데이터 분석과 자동화를 통해 공공 서비스의 효율성을 높일 수 있습니다. 이는 자원의 최적화와 비용 절감으로 이어집니다.\n",
      "2. **의사결정 지원**: AI는 방대한 양의 데이터를 처리하여 정책 결정자에게 유용한 인사이트를 제공함으로써 보다 정보에 기반한 의사결정을 가능하게 합니다.\n",
      "3. **서비스 개선**: 공공 서비스의 질을 향상시키고, 시민의 요구에 보다 신속하게 대응할 수 있는 가능성을 제공합니다.\n",
      "\n",
      "### AI의 과제\n",
      "1. **윤리적 문제**: AI의 도입으로 인해 발생할 수 있는 개인정보 보호, 편향된 알고리즘, 책임 소재 등 윤리적 문제를 해결해야 합니다.\n",
      "2. **기술 격차**: AI 기술에 대한 접근성 문제로 인해 지역 간, 계층 간 불균형이 심화될 수 있습니다.\n",
      "3. **법적 및 규제 문제**: AI의 사용에 따른 법적 프레임워크가 필요하며, 이를 통해 기술의 안전하고 책임 있는 사용을 보장해야 합니다.\n",
      "\n",
      "OECD는 G7 국가들이 이러한 이점과 과제를 인식하고, AI 기술을 효과적으로 도입하기 위해 협력할 것을 권장하고 있습니다. 이는 글로벌 차원에서의 AI 정책 개발 및 표준화를 촉진할 수 있는 중요한 기회가 될 것입니다.\n",
      "\n",
      "Recursive Chunk 6 Response:\n",
      "G7 툴킷 발표와 관련하여, 이는 주요 7개국(G7)이 글로벌 경제와 기술 발전에 대한 공동의 접근 방안을 마련하기 위해 발표한 가이드라인이나 도구를 의미할 수 있습니다. 특히 생성 AI(Generative AI) 시대에 대비하여, 세계경제포럼(WEF)과 같은 기관들이 이와 관련된 논의를 진행하고 있습니다.\n",
      "\n",
      "이러한 툴킷은 주로 다음과 같은 내용을 포함할 수 있습니다:\n",
      "\n",
      "1. **정책 가이드라인**: 생성 AI의 안전한 사용과 관련된 정책 제안.\n",
      "2. **윤리적 기준**: AI 기술 개발 및 활용에 있어 준수해야 할 윤리적 기준과 원칙.\n",
      "3. **협력 프레임워크**: G7 국가 간의 협력을 촉진하기 위한 체계적인 접근법.\n",
      "4. **교육 및 훈련 프로그램**: AI 기술에 대한 이해를 높이고, 관련 인재를 양성하기 위한 교육 프로그램.\n",
      "\n",
      "생성 AI는 다양한 분야에서 혁신을 가져올 수 있는 잠재력을 가지고 있지만, 그에 따른 위험과 도전 과제도 존재합니다. 따라서 이러한 툴킷은 G7 국가들이 생성 AI 기술을 발전시키면서도 사회적 책임을 다할 수 있도록 지원하는 역할을 할 것입니다. \n",
      "\n",
      "추가적인 정보나 구체적인 세부사항이 필요하시면 말씀해 주세요!\n",
      "\n",
      "Recursive Chunk 7 Response:\n",
      "생성 AI 시대의 거버넌스 프레임워크는 AI 기술의 발전과 확산에 맞춰 기업 및 산업의 책임 있는 사용을 보장하기 위한 중요한 요소입니다. 이러한 프레임워크는 다음과 같은 주요 요소를 포함할 수 있습니다:\n",
      "\n",
      "### 1. 윤리적 기준\n",
      "- **투명성**: 생성 AI의 의사결정 과정과 결과를 이해하고 설명할 수 있도록 해야 합니다.\n",
      "- **공정성**: AI 모델이 특정 집단에 대한 편향을 갖지 않도록 하는 검토와 조정이 필요합니다.\n",
      "- **책임성**: AI의 사용으로 인한 결과에 대해 책임을 질 수 있는 시스템을 마련해야 합니다.\n",
      "\n",
      "### 2. 법적 및 규제 준수\n",
      "- **데이터 보호**: 개인 정보 보호 및 데이터 사용에 대한 법률을 준수해야 합니다.\n",
      "- **지적 재산권**: AI가 생성한 콘텐츠의 소유권과 관련된 법적 프레임워크를 마련해야 합니다.\n",
      "\n",
      "### 3. 기술적 안전성\n",
      "- **보안**: AI 시스템에 대한 사이버 공격이나 해킹을 방지하기 위한 보안 조치를 강화해야 합니다.\n",
      "- **신뢰성**: AI의 성능과 결과가 일관되게 신뢰할 수 있도록 모니터링하고 검증하는 시스템이 필요합니다.\n",
      "\n",
      "### 4. 이해관계자 참여\n",
      "- **커뮤니티 피드백**: AI 기술의 개발 및 적용에 있어 다양한 이해관계자의 의견을 수렴하고 반영하는 체계를 구축해야 합니다.\n",
      "- **교육 및 인식 제고**: 기업 내외부의 이해관계자들이 AI의 작동 방식과 잠재적 영향에 대해 교육받을 수 있도록 해야 합니다.\n",
      "\n",
      "### 5. 지속 가능성\n",
      "- **환경적 영향 고려**: AI 기술의 개발과 운영이 환경에 미치는 영향을 평가하고 지속 가능한 방법을 모색해야 합니다.\n",
      "- **사회적 책임**: 기업이 AI 기술을 통해 사회적 가치를 창출할 수 있는 방안을 고민해야 합니다.\n",
      "\n",
      "이러한 거버넌스 프레임워크는 기업과 산업이 생성 AI를 책임감 있게 사용하고, 사회적 신뢰를 구축하는 데 중요한 역할을 할 것입니다. 이러한 접근 방식은 CB Insights와 같은 기업이 제공하는 데이터와 인사이트를 통해 더욱 구체화되고 실현될 수 있습니다.\n",
      "\n",
      "Recursive Chunk 8 Response:\n",
      "CB Insights의 분석 결과에 따르면, 2024년 3분기 벤처 투자 중 31%가 AI 스타트업에 집중될 것으로 예상되고 있습니다. 이는 인공지능 분야의 성장 가능성과 혁신적인 기술에 대한 높은 관심을 반영하는 수치입니다. \n",
      "\n",
      "또한, 메타(Meta)는 새로운 동영상 생성 AI 도구인 '메타 무비 젠(Meta Movie Gen)'을 출시했습니다. 이 도구는 사용자가 쉽게 동영상을 생성할 수 있도록 도와주는 기능을 제공하며, AI 기술을 활용하여 콘텐츠 제작의 효율성을 높이는 데 기여할 것으로 기대됩니다. \n",
      "\n",
      "이와 같은 동향은 AI 기술이 다양한 산업에 걸쳐 빠르게 확산되고 있음을 보여주며, 특히 스타트업과 콘텐츠 제작 분야에서의 혁신이 두드러진다는 점에서 주목할 만합니다.\n",
      "\n",
      "Recursive Chunk 9 Response:\n",
      "\"메타 무비 젠\"에 대한 정보나 관련 내용이 필요하신가요? 또는 특정한 질문이 있으신가요? 이와 관련된 내용을 더 구체적으로 말씀해 주시면, 도움이 될 수 있는 정보를 제공해 드리겠습니다.\n",
      "\n",
      "Recursive Chunk 10 Response:\n",
      "‘라마 3.2’는 이미지와 텍스트를 동시에 처리할 수 있는 첫 번째 멀티모달 AI 모델로 주목받고 있습니다. 이 모델은 다양한 형태의 데이터를 처리하고, 더 나아가 시각적 정보와 언어적 정보를 결합하여 더 풍부한 응답을 생성할 수 있는 능력을 가지고 있습니다. \n",
      "\n",
      "앨런AI연구소는 이 모델이 벤치마크 평가에서 GPT-4보다 우수한 성능을 보여주었다고 발표했습니다. 이는 라마 3.2가 실제 다양한 작업에서 더 높은 정확성과 효율성을 발휘할 수 있음을 시사합니다. \n",
      "\n",
      "멀티모달 AI의 발전은 이미지 이해, 자연어 처리, 그리고 두 가지 정보를 결합한 새로운 형태의 응용 프로그램 개발에 큰 기여를 할 것으로 기대됩니다. 이러한 기술은 특히 비즈니스, 교육, 의료 등 다양한 분야에서 혁신적인 변화를 가져올 수 있습니다.\n",
      "\n"
     ]
    }
   ],
   "source": [
    "from langchain.text_splitter import RecursiveCharacterTextSplitter\n",
    "\n",
    "# RecursiveCharacterTextSplitter로 청킹\n",
    "recursive_text_splitter = RecursiveCharacterTextSplitter(\n",
    "    chunk_size=100,          # 각 청크의 최대 길이\n",
    "    chunk_overlap=10,        # 청크 간의 겹치는 길이\n",
    "    length_function=len,     # 길이를 측정하는 함수\n",
    "    is_separator_regex=False # separator를 정규식으로 사용하지 않음\n",
    ")\n",
    "recursive_chunks = recursive_text_splitter.split_documents(docs)\n",
    "\n",
    "# 청킹된 결과의 상위 10개 출력\n",
    "print(\"=== RecursiveCharacterTextSplitter 모델 응답 상위 10개 ===\")\n",
    "for i, chunk in enumerate(recursive_chunks[:10]):\n",
    "    messages = [HumanMessage(content=chunk.page_content)]\n",
    "    response = model(messages)\n",
    "    print(f\"Recursive Chunk {i+1} Response:\\n{response.content}\\n\")"
   ]
  },
  {
   "cell_type": "markdown",
   "id": "a43357f6-09d0-4720-8be9-a48b80df37d5",
   "metadata": {},
   "source": [
    "## 5. 벡터 임베딩 생성\n",
    "`OpenAIEmbeddings`을 이용해 텍스트를 벡터로 변환할 벡터 임베딩을 생성"
   ]
  },
  {
   "cell_type": "code",
   "execution_count": 45,
   "id": "ae8fc8b2-0ba7-47fb-a447-0a9282ce0577",
   "metadata": {},
   "outputs": [
    {
     "name": "stderr",
     "output_type": "stream",
     "text": [
      "C:\\Users\\jh838\\AppData\\Local\\Temp\\ipykernel_1920\\1842267153.py:4: LangChainDeprecationWarning: The class `OpenAIEmbeddings` was deprecated in LangChain 0.0.9 and will be removed in 1.0. An updated version of the class exists in the :class:`~langchain-openai package and should be used instead. To use it run `pip install -U :class:`~langchain-openai` and import as `from :class:`~langchain_openai import OpenAIEmbeddings``.\n",
      "  embeddings = OpenAIEmbeddings(model=\"text-embedding-ada-002\")\n"
     ]
    }
   ],
   "source": [
    "from langchain.embeddings import OpenAIEmbeddings\n",
    "\n",
    "# OpenAI 임베딩 모델 초기화\n",
    "embeddings = OpenAIEmbeddings(model=\"text-embedding-ada-002\")"
   ]
  },
  {
   "cell_type": "markdown",
   "id": "422deb0d-ead6-476f-876d-af9012a05600",
   "metadata": {},
   "source": [
    "## 6. 벡터 스토어 생성\n",
    "앞서 만든 벡터 임베딩과 청크된 문서를 활용하여 `FAISS` 벡터 스토어를 생성"
   ]
  },
  {
   "cell_type": "code",
   "execution_count": 50,
   "id": "df34f393-372b-428e-b080-20caf68ab698",
   "metadata": {},
   "outputs": [
    {
     "name": "stdout",
     "output_type": "stream",
     "text": [
      "FAISS 벡터 스토어가 성공적으로 생성되었습니다.\n"
     ]
    }
   ],
   "source": [
    "import faiss\n",
    "from langchain.vectorstores import FAISS\n",
    "\n",
    "# 청크된 문서와 생성된 벡터 임베딩을 활용하여 FAISS 벡터 스토어 생성\n",
    "vectorstore = FAISS.from_documents(documents=recursive_chunks, embedding=embeddings)\n",
    "\n",
    "# 벡터 스토어가 잘 생성되었는지 확인\n",
    "print(\"FAISS 벡터 스토어가 성공적으로 생성되었습니다.\")"
   ]
  },
  {
   "cell_type": "markdown",
   "id": "692da1e7-5d69-41a8-ba96-56d0b6ac04f0",
   "metadata": {},
   "source": [
    "## 7. FAISS를 Retriever로 변환\n",
    "RAG 체인에서 사용할 수 있도록 `FAISS`를 `retriever`로 변환"
   ]
  },
  {
   "cell_type": "code",
   "execution_count": 55,
   "id": "0eabb91e-dea3-48a5-89e1-c698f4705e07",
   "metadata": {},
   "outputs": [
    {
     "name": "stdout",
     "output_type": "stream",
     "text": [
      "FAISS retriever가 성공적으로 생성되었습니다.\n"
     ]
    }
   ],
   "source": [
    "# FAISS 벡터 스토어를 retriever로 변환\n",
    "retriever = vectorstore.as_retriever(search_type=\"similarity\", search_kwargs={\"k\": 1})\n",
    "\n",
    "# 변환된 retriever가 잘 작동하는지 확인\n",
    "print(\"FAISS retriever가 성공적으로 생성되었습니다.\")"
   ]
  },
  {
   "cell_type": "markdown",
   "id": "031017cd-04af-48b2-a441-35fbd1dce08b",
   "metadata": {},
   "source": [
    "## 8. 프롬프트 템플릿 정의"
   ]
  },
  {
   "cell_type": "code",
   "execution_count": 63,
   "id": "72d523be-6470-46c4-99d7-abae29a75f46",
   "metadata": {},
   "outputs": [
    {
     "name": "stdout",
     "output_type": "stream",
     "text": [
      "Contextual prompt template has been successfully defined.\n"
     ]
    }
   ],
   "source": [
    "from langchain.prompts import ChatPromptTemplate\n",
    "\n",
    "# 프롬프트 템플릿 정의\n",
    "contextual_prompt = ChatPromptTemplate.from_messages([\n",
    "    (\"system\", \"Answer the question using only the following context.\"),\n",
    "    (\"user\", \"Context: {context}\\n\\nQuestion: {question}\")\n",
    "])\n",
    "\n",
    "# 템플릿 확인\n",
    "print(\"Contextual prompt template has been successfully defined.\")"
   ]
  },
  {
   "cell_type": "markdown",
   "id": "063687be-e065-45a1-b4dd-b73c2f8bcf82",
   "metadata": {},
   "source": [
    "## 9. RAG 체인 구성\n",
    "`LangChain`의 모델과 프롬프트를 연결하여 `RAG`체인을 구성"
   ]
  },
  {
   "cell_type": "code",
   "execution_count": 67,
   "id": "53ca8465-89b7-47c8-8918-401ccf880cad",
   "metadata": {},
   "outputs": [
    {
     "name": "stderr",
     "output_type": "stream",
     "text": [
      "C:\\Users\\jh838\\AppData\\Local\\Temp\\ipykernel_1920\\3069750662.py:42: LangChainDeprecationWarning: The class `LLMChain` was deprecated in LangChain 0.1.17 and will be removed in 1.0. Use :meth:`~RunnableSequence, e.g., `prompt | llm`` instead.\n",
      "  llm_chain = LLMChain(llm=model, prompt=contextual_prompt)\n"
     ]
    }
   ],
   "source": [
    "from langchain.chains import LLMChain\n",
    "\n",
    "# 간단한 패스스루 클래스 정의\n",
    "class SimplePassThrough:\n",
    "    def invoke(self, inputs, **kwargs):\n",
    "        return inputs\n",
    "\n",
    "# ContextToPrompt 클래스 정의\n",
    "class ContextToPrompt:\n",
    "    def __init__(self, prompt_template):\n",
    "        self.prompt_template = prompt_template\n",
    "    \n",
    "    def invoke(self, inputs):\n",
    "        # 문서 내용을 텍스트로 변환\n",
    "        if isinstance(inputs, list):\n",
    "            context_text = \"\\n\".join([doc.page_content for doc in inputs])\n",
    "        else:\n",
    "            context_text = inputs\n",
    "        \n",
    "        # 프롬프트 템플릿에 적용\n",
    "        formatted_prompt = self.prompt_template.format_messages(\n",
    "            context=context_text,\n",
    "            question=inputs.get(\"question\", \"\")\n",
    "        )\n",
    "        return formatted_prompt\n",
    "\n",
    "# RetrieverWrapper 클래스 정의\n",
    "class RetrieverWrapper:\n",
    "    def __init__(self, retriever):\n",
    "        self.retriever = retriever\n",
    "\n",
    "    def invoke(self, inputs):\n",
    "        if isinstance(inputs, dict):\n",
    "            query = inputs.get(\"question\", \"\")\n",
    "        else:\n",
    "            query = inputs\n",
    "        # 검색 수행\n",
    "        response_docs = self.retriever.get_relevant_documents(query)\n",
    "        return response_docs\n",
    "\n",
    "# LLMChain 인스턴스 생성\n",
    "llm_chain = LLMChain(llm=model, prompt=contextual_prompt)\n",
    "\n",
    "# RAG 체인 구성\n",
    "rag_chain_debug = {\n",
    "    \"context\": RetrieverWrapper(retriever),\n",
    "    \"prompt\": ContextToPrompt(contextual_prompt),\n",
    "    \"llm\": llm_chain\n",
    "}"
   ]
  },
  {
   "cell_type": "markdown",
   "id": "dbf44bbb-74db-47cb-bd37-1c9c2b618d90",
   "metadata": {},
   "source": [
    "## 10. 챗봇 구동"
   ]
  },
  {
   "cell_type": "code",
   "execution_count": null,
   "id": "219bcf19-89b0-4c94-a184-9f0e6e394a86",
   "metadata": {},
   "outputs": [
    {
     "name": "stdout",
     "output_type": "stream",
     "text": [
      "========================\n"
     ]
    }
   ],
   "source": [
    "# 챗봇 구동\n",
    "while True:\n",
    "    print(\"========================\")\n",
    "    query = input(\"질문을 입력하세요 : \")\n",
    "    \n",
    "    # Retriever로 관련 문서 검색\n",
    "    response_docs = rag_chain_debug[\"context\"].invoke({\"question\": query})\n",
    "    \n",
    "    # 문서를 프롬프트로 변환\n",
    "    prompt_messages = rag_chain_debug[\"prompt\"].invoke({\n",
    "        \"context\": response_docs,\n",
    "        \"question\": query\n",
    "    })\n",
    "    \n",
    "    # LLM으로 응답 생성\n",
    "    response = rag_chain_debug[\"llm\"].invoke(prompt_messages)\n",
    "    \n",
    "    print(\"\\n답변:\")\n",
    "    print(response.content)"
   ]
  },
  {
   "cell_type": "markdown",
   "id": "7d6130aa-14e1-4276-9fa3-0f71a34c760e",
   "metadata": {},
   "source": [
    "## RAG가 필요한 이유\n",
    "\r\n",
    "RAG 체인을 활용하면, 질문과 관련된 문서를 검색하고 이를 기반으로 응답을 생성하기 때문에 보다 맥락에 맞고 최신 정보를 포함한 답변을 생성수 있다..\r\n"
   ]
  },
  {
   "cell_type": "code",
   "execution_count": null,
   "id": "88ee3ace-a04e-4dc5-80cf-6d7208fc00ee",
   "metadata": {},
   "outputs": [],
   "source": []
  }
 ],
 "metadata": {
  "kernelspec": {
   "display_name": "Python 3 (ipykernel)",
   "language": "python",
   "name": "python3"
  },
  "language_info": {
   "codemirror_mode": {
    "name": "ipython",
    "version": 3
   },
   "file_extension": ".py",
   "mimetype": "text/x-python",
   "name": "python",
   "nbconvert_exporter": "python",
   "pygments_lexer": "ipython3",
   "version": "3.12.3"
  }
 },
 "nbformat": 4,
 "nbformat_minor": 5
}
